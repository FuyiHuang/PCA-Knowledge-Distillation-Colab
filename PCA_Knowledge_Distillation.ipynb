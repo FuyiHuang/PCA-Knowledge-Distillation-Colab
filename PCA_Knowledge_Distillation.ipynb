{
  "nbformat": 4,
  "nbformat_minor": 0,
  "metadata": {
    "colab": {
      "provenance": [],
      "machine_shape": "hm",
      "gpuType": "T4",
      "toc_visible": true,
      "authorship_tag": "ABX9TyNd4XQKZ5eh1CSWRfEOvFSf",
      "include_colab_link": true
    },
    "kernelspec": {
      "name": "python3",
      "display_name": "Python 3"
    },
    "language_info": {
      "name": "python"
    },
    "accelerator": "GPU"
  },
  "cells": [
    {
      "cell_type": "markdown",
      "metadata": {
        "id": "view-in-github",
        "colab_type": "text"
      },
      "source": [
        "<a href=\"https://colab.research.google.com/github/FuyiHuang/PCA-Knowledge-Distillation-Colab/blob/main/PCA_Knowledge_Distillation.ipynb\" target=\"_parent\"><img src=\"https://colab.research.google.com/assets/colab-badge.svg\" alt=\"Open In Colab\"/></a>"
      ]
    },
    {
      "cell_type": "code",
      "execution_count": null,
      "metadata": {
        "colab": {
          "base_uri": "https://localhost:8080/"
        },
        "id": "_43fbRUcE-AM",
        "outputId": "6be68360-3bc4-4817-b555-784a850c9039"
      },
      "outputs": [
        {
          "output_type": "stream",
          "name": "stdout",
          "text": [
            "Cloning into 'PCA-Knowledge-Distillation'...\n",
            "remote: Enumerating objects: 124, done.\u001b[K\n",
            "remote: Counting objects: 100% (124/124), done.\u001b[K\n",
            "remote: Compressing objects: 100% (94/94), done.\u001b[K\n",
            "remote: Total 124 (delta 35), reused 110 (delta 28), pack-reused 0\u001b[K\n",
            "Receiving objects: 100% (124/124), 23.58 MiB | 16.38 MiB/s, done.\n",
            "Resolving deltas: 100% (35/35), done.\n"
          ]
        }
      ],
      "source": [
        "!git clone https://github.com/chiutaiyin/PCA-Knowledge-Distillation.git"
      ]
    },
    {
      "cell_type": "code",
      "source": [
        "!pip install yacs"
      ],
      "metadata": {
        "colab": {
          "base_uri": "https://localhost:8080/"
        },
        "id": "mMWSo7OWVPU-",
        "outputId": "c7523d8a-800f-4fb9-8ba7-c034ce9b2ffc"
      },
      "execution_count": null,
      "outputs": [
        {
          "output_type": "stream",
          "name": "stdout",
          "text": [
            "Requirement already satisfied: yacs in /usr/local/lib/python3.10/dist-packages (0.1.8)\n",
            "Requirement already satisfied: PyYAML in /usr/local/lib/python3.10/dist-packages (from yacs) (6.0.1)\n"
          ]
        }
      ]
    },
    {
      "cell_type": "markdown",
      "source": [
        "在运行下面代码前，需要把lightweight_model.py和vgg_model.py里面的\n",
        "csvfile = open('./utils/vgg_layers.csv', newline='')\n",
        "改成绝对路径\n",
        "content/PCA-Knowledge-Distillation/VGG backbone/utils/vgg_layers.csv"
      ],
      "metadata": {
        "id": "El4Cvgdj8Klw"
      }
    },
    {
      "cell_type": "code",
      "source": [
        "import sys\n",
        "sys.path.append('/content/PCA-Knowledge-Distillation/VGG backbone')\n",
        "import numpy as np\n",
        "import tensorflow as tf\n",
        "from tensorflow.keras import layers, Model\n",
        "from utils.vgg_model import VggEncoder\n",
        "from utils.lightweight_model import VggSDecoder, VggSEncoder\n",
        "from utils.photo_gif import GIFSmoothing\n",
        "from PIL import Image\n",
        "from tqdm import tqdm\n",
        "import os, cv2\n",
        "os.environ['TF_FORCE_GPU_ALLOW_GROWTH'] = \"true\"\n",
        "os.environ[\"CUDA_VISIBLE_DEVICES\"]=\"1\""
      ],
      "metadata": {
        "id": "d3LpcSMuGBTS"
      },
      "execution_count": null,
      "outputs": []
    },
    {
      "cell_type": "code",
      "source": [
        "class VggEncDec(tf.keras.Model):\n",
        "    def __init__(self):\n",
        "        super(VggEncDec, self).__init__()\n",
        "        self.sencoder = VggSEncoder()\n",
        "        self.sdecoder = VggSDecoder()\n",
        "        self.sencoder.load_weights('/content/PCA-Knowledge-Distillation/VGG backbone/ckpts/sencoder')\n",
        "        self.sdecoder.load_weights('/content/PCA-Knowledge-Distillation/VGG backbone/ckpts/sdecoder')\n",
        "\n",
        "    def call(self, layer, input_img):\n",
        "        None"
      ],
      "metadata": {
        "id": "RMqAh4tHHy0M"
      },
      "execution_count": null,
      "outputs": []
    },
    {
      "cell_type": "code",
      "source": [
        "def load_img(file):\n",
        "    img = np.asarray(Image.open(file), dtype=np.float32)\n",
        "    img = np.expand_dims(cv2.resize(img, (img.shape[1] // 8 * 8, img.shape[0] // 8 * 8)), axis=0) / 255\n",
        "    return img\n",
        "\n",
        "def inv_sqrt_cov(cov, inverse=False):\n",
        "    s, u, _ = tf.linalg.svd(cov + tf.eye(cov.shape[-1]))\n",
        "    n_s = tf.reduce_sum(tf.cast(tf.greater(s, 1e-5), tf.int32))\n",
        "    s = tf.sqrt(s[:,:n_s])\n",
        "    if inverse:\n",
        "        s = 1 / s\n",
        "    d = tf.linalg.diag(s)\n",
        "    u = u[:,:,:n_s]\n",
        "    return tf.matmul(u, tf.matmul(d, u, adjoint_b=True))\n",
        "\n",
        "# transform: feature transformation\n",
        "def stylize_core(c_feat, s_feat, transform='zca'):\n",
        "    n_batch, cont_h, cont_w, n_channel = c_feat.shape\n",
        "    _c_feat = tf.reshape(tf.transpose(c_feat, [0, 3, 1, 2]), [n_batch, n_channel, -1])\n",
        "    if transform == 'zca':\n",
        "        c_feat = stylize_zca(_c_feat, s_feat)\n",
        "    elif transform == 'ot':\n",
        "        c_feat = stylize_ot(_c_feat, s_feat)\n",
        "    elif transform == 'adain':\n",
        "        c_feat = stylize_adain(_c_feat, s_feat)\n",
        "\n",
        "    c_feat = tf.transpose(tf.reshape(c_feat, [n_batch, n_channel, cont_h, cont_w]), [0, 2, 3, 1])\n",
        "    return c_feat\n",
        "\n",
        "def stylize_adain(c_feat, s_feat):\n",
        "    m_c = tf.reduce_mean(c_feat, axis=-1, keepdims=True)\n",
        "    m_s = tf.reduce_mean(s_feat, axis=-1, keepdims=True)\n",
        "    c_feat = c_feat - m_c\n",
        "    s_feat = s_feat - m_s\n",
        "    s_c = tf.sqrt(tf.reduce_mean(c_feat * c_feat, axis=-1, keepdims=True) + 1e-8)\n",
        "    s_s = tf.sqrt(tf.reduce_mean(s_feat * s_feat, axis=-1, keepdims=True) + 1e-8)\n",
        "    white_c_feat = c_feat / s_c\n",
        "    feat = white_c_feat * s_s + m_s\n",
        "    return feat\n",
        "\n",
        "def stylize_zca(c_feat, s_feat):\n",
        "    m_c = tf.reduce_mean(c_feat, axis=-1, keepdims=True)\n",
        "    m_s = tf.reduce_mean(s_feat, axis=-1, keepdims=True)\n",
        "    c_feat = c_feat - m_c\n",
        "    s_feat = s_feat - m_s\n",
        "    c_cov = tf.matmul(c_feat, c_feat, transpose_b=True) / c_feat.shape[-1]\n",
        "    s_cov = tf.matmul(s_feat, s_feat, transpose_b=True) / s_feat.shape[-1]\n",
        "    inv_sqrt_c_cov = inv_sqrt_cov(c_cov, True)\n",
        "    opt = tf.matmul(inv_sqrt_cov(s_cov), inv_sqrt_c_cov)\n",
        "    feat = tf.matmul(opt, c_feat) + m_s\n",
        "    return feat\n",
        "\n",
        "def stylize_ot(c_feat, s_feat):\n",
        "    m_c = tf.reduce_mean(c_feat, axis=-1, keepdims=True)\n",
        "    m_s = tf.reduce_mean(s_feat, axis=-1, keepdims=True)\n",
        "    c_feat = c_feat - m_c\n",
        "    s_feat = s_feat - m_s\n",
        "    c_cov = tf.matmul(c_feat, c_feat, transpose_b=True) / c_feat.shape[-1]\n",
        "    s_cov = tf.matmul(s_feat, s_feat, transpose_b=True) / s_feat.shape[-1]\n",
        "    sqrt_c_cov = inv_sqrt_cov(c_cov)\n",
        "    inv_sqrt_c_cov = inv_sqrt_cov(c_cov, True)\n",
        "    opt = inv_sqrt_cov(tf.matmul(sqrt_c_cov, tf.matmul(s_cov, sqrt_c_cov)))\n",
        "    opt = tf.matmul(inv_sqrt_c_cov, tf.matmul(opt, inv_sqrt_c_cov))\n",
        "    feat = tf.matmul(opt, c_feat) + m_s\n",
        "    return feat"
      ],
      "metadata": {
        "id": "YAhNkymhH3tb"
      },
      "execution_count": null,
      "outputs": []
    },
    {
      "cell_type": "code",
      "source": [
        "# 需要把tf版本降到2.8.0\n",
        "import tensorflow as tf\n",
        "print(tf.__version__)\n",
        "!pip uninstall tensorflow-gpu\n",
        "!pip install tensorflow-gpu==2.8.0\n",
        "import tensorflow as tf\n",
        "print(tf.__version__)"
      ],
      "metadata": {
        "colab": {
          "base_uri": "https://localhost:8080/"
        },
        "id": "sFu22klAKVhQ",
        "outputId": "3720c097-bd13-411c-b1f5-1db3f5488f85"
      },
      "execution_count": null,
      "outputs": [
        {
          "output_type": "stream",
          "name": "stdout",
          "text": [
            "2.8.0\n"
          ]
        }
      ]
    },
    {
      "cell_type": "code",
      "source": [
        "enc_dec = VggEncDec()"
      ],
      "metadata": {
        "id": "IdHda0hMH-FL",
        "colab": {
          "base_uri": "https://localhost:8080/"
        },
        "outputId": "05e9c4bc-df35-42b7-e6f2-6836e6936580"
      },
      "execution_count": null,
      "outputs": [
        {
          "output_type": "stream",
          "name": "stdout",
          "text": [
            "Reached target layer: relu4_1\n"
          ]
        }
      ]
    },
    {
      "cell_type": "code",
      "source": [
        "p_pro = GIFSmoothing(r=30, eps= (0.02 * 255) ** 2)"
      ],
      "metadata": {
        "id": "lTXH8pQ7YXC6"
      },
      "execution_count": null,
      "outputs": []
    },
    {
      "cell_type": "code",
      "source": [
        "!wget -O '/content/PCA-Knowledge-Distillation/VGG backbone/figures/content/0.jpg' 'https://pixabay.com/get/g6d0316fd7fbf1ec609a4650fa05f7fd6eb2633bf915552a26e1068e7f8e24a1d37d39076503183ce5ba43348f8bc0129.jpg'\n",
        "!wget -O '/content/PCA-Knowledge-Distillation/VGG backbone/figures/style/0.jpg' 'https://pixabay.com/get/g6d0316fd7fbf1ec609a4650fa05f7fd6eb2633bf915552a26e1068e7f8e24a1d37d39076503183ce5ba43348f8bc0129.jpg'"
      ],
      "metadata": {
        "colab": {
          "base_uri": "https://localhost:8080/"
        },
        "id": "GmUC5wE51UAP",
        "outputId": "c2a56130-f735-4fa2-84f2-7f02df9c702b"
      },
      "execution_count": null,
      "outputs": [
        {
          "output_type": "stream",
          "name": "stdout",
          "text": [
            "--2024-08-08 07:31:47--  https://pixabay.com/get/g6d0316fd7fbf1ec609a4650fa05f7fd6eb2633bf915552a26e1068e7f8e24a1d37d39076503183ce5ba43348f8bc0129.jpg\n",
            "Resolving pixabay.com (pixabay.com)... 104.18.40.96, 172.64.147.160, 2606:4700:4400::6812:2860, ...\n",
            "Connecting to pixabay.com (pixabay.com)|104.18.40.96|:443... connected.\n",
            "HTTP request sent, awaiting response... 200 OK\n",
            "Length: 2262862 (2.2M) [image/jpeg]\n",
            "Saving to: ‘/content/PCA-Knowledge-Distillation/VGG backbone/figures/content/0.jpg’\n",
            "\n",
            "\r          /content/   0%[                    ]       0  --.-KB/s               \r/content/PCA-Knowle 100%[===================>]   2.16M  --.-KB/s    in 0.03s   \n",
            "\n",
            "2024-08-08 07:31:47 (77.6 MB/s) - ‘/content/PCA-Knowledge-Distillation/VGG backbone/figures/content/0.jpg’ saved [2262862/2262862]\n",
            "\n",
            "--2024-08-08 07:31:47--  https://pixabay.com/get/g6d0316fd7fbf1ec609a4650fa05f7fd6eb2633bf915552a26e1068e7f8e24a1d37d39076503183ce5ba43348f8bc0129.jpg\n",
            "Resolving pixabay.com (pixabay.com)... 104.18.40.96, 172.64.147.160, 2606:4700:4400::6812:2860, ...\n",
            "Connecting to pixabay.com (pixabay.com)|104.18.40.96|:443... connected.\n",
            "HTTP request sent, awaiting response... 200 OK\n",
            "Length: 2262862 (2.2M) [image/jpeg]\n",
            "Saving to: ‘/content/PCA-Knowledge-Distillation/VGG backbone/figures/style/0.jpg’\n",
            "\n",
            "/content/PCA-Knowle 100%[===================>]   2.16M  --.-KB/s    in 0.03s   \n",
            "\n",
            "2024-08-08 07:31:47 (70.6 MB/s) - ‘/content/PCA-Knowledge-Distillation/VGG backbone/figures/style/0.jpg’ saved [2262862/2262862]\n",
            "\n"
          ]
        }
      ]
    },
    {
      "cell_type": "code",
      "source": [
        "import os\n",
        "import matplotlib.pyplot as plt\n",
        "from tqdm import tqdm\n",
        "for i in tqdm(range(1)):\n",
        "    cont_img = load_img(f'/content/PCA-Knowledge-Distillation/VGG backbone/figures/content/{i}.jpg')\n",
        "    style_img = load_img(f'/content/PCA-Knowledge-Distillation/VGG backbone/figures/style/{i}.jpg')\n",
        "\n",
        "    transform = 'zca'\n",
        "    tf.print(\"image shape:\", style_img.shape)\n",
        "    x1 = enc_dec.sencoder(0, style_img)\n",
        "    tf.print(\"x1 shape:\", tf.shape(x1[0]))\n",
        "    x2 = enc_dec.sencoder(1, x1[0])\n",
        "    x3 = enc_dec.sencoder(2, x2[0])\n",
        "    x4 = enc_dec.sencoder(3, x3[0])\n",
        "\n",
        "    y1 = enc_dec.sencoder(0, cont_img)\n",
        "    y2 = enc_dec.sencoder(1, y1[0])\n",
        "    y3 = enc_dec.sencoder(2, y2[0])\n",
        "    y4 = enc_dec.sencoder(3, y3[0])\n",
        "\n",
        "    sfeat = tf.reshape(tf.transpose(x4[0], [0, 3, 1, 2]), [x4[0].shape[0], x4[0].shape[-1], -1])\n",
        "    x = stylize_core(y4[0], sfeat, transform=transform)\n",
        "    x = enc_dec.sdecoder(3, x, skip=y4[1])\n",
        "\n",
        "    sfeat = tf.reshape(tf.transpose(x3[0], [0, 3, 1, 2]), [x3[0].shape[0], x3[0].shape[-1], -1])\n",
        "    x = stylize_core(x, sfeat, transform=transform)\n",
        "    x = enc_dec.sdecoder(2, x, skip=y3[1])\n",
        "\n",
        "    sfeat = tf.reshape(tf.transpose(x2[0], [0, 3, 1, 2]), [x2[0].shape[0], x2[0].shape[-1], -1])\n",
        "    x = stylize_core(x, sfeat, transform=transform)\n",
        "    x = enc_dec.sdecoder(1, x, skip=y2[1])\n",
        "\n",
        "    sfeat = tf.reshape(tf.transpose(x1[0], [0, 3, 1, 2]), [x1[0].shape[0], x1[0].shape[-1], -1])\n",
        "    x = stylize_core(x, sfeat, transform=transform)\n",
        "    x = tf.clip_by_value(enc_dec.sdecoder(0, x, skip=y1[1]), 0, 1)\n",
        "\n",
        "    if not os.path.exists('/content/PCA-Knowledge-Distillation/VGG backbone/results'):\n",
        "        os.mkdir('/content/PCA-Knowledge-Distillation/VGG backbone/results')\n",
        "    p_pro.process(x[0], f'/content/PCA-Knowledge-Distillation/VGG backbone/figures/content/{i}.jpg').save(f'/content/PCA-Knowledge-Distillation/VGG backbone/results/{i}.jpg')\n",
        "\n",
        "    # Display the content, style, and output images\n",
        "    output_img = load_img(f'/content/PCA-Knowledge-Distillation/VGG backbone/results/{i}.jpg')\n",
        "\n",
        "    fig, ax = plt.subplots(1, 3, figsize=(15, 5))\n",
        "    ax[0].imshow(cont_img[0])\n",
        "    ax[0].set_title('Content Image')\n",
        "    ax[0].axis('off')\n",
        "\n",
        "    ax[1].imshow(style_img[0])\n",
        "    ax[1].set_title('Style Image')\n",
        "    ax[1].axis('off')\n",
        "\n",
        "    ax[2].imshow(output_img[0])\n",
        "    ax[2].set_title('Output Image')\n",
        "    ax[2].axis('off')\n",
        "\n",
        "    plt.show()"
      ],
      "metadata": {
        "id": "vVtDEJ_YYc_Q",
        "colab": {
          "base_uri": "https://localhost:8080/"
        },
        "outputId": "7bb6ba58-d5d5-4776-87c0-6d18c911d591"
      },
      "execution_count": null,
      "outputs": [
        {
          "output_type": "stream",
          "name": "stderr",
          "text": [
            "\r  0%|          | 0/1 [00:00<?, ?it/s]"
          ]
        },
        {
          "output_type": "stream",
          "name": "stdout",
          "text": [
            "image shape: (1, 4000, 6000, 3)\n",
            "x1 shape: [1 4000 6000 10]\n"
          ]
        }
      ]
    }
  ]
}